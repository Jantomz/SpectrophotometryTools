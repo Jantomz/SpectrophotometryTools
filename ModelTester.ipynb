{
 "cells": [
  {
   "cell_type": "code",
   "execution_count": 87,
   "id": "ff89372c-b673-4e82-b258-ff1b74028890",
   "metadata": {},
   "outputs": [],
   "source": [
    "from tensorflow.keras.models import load_model\n",
    "from sklearn.metrics import accuracy_score"
   ]
  },
  {
   "cell_type": "code",
   "execution_count": 122,
   "id": "af0971b0-57ce-4335-a5a9-e40862ec60ca",
   "metadata": {},
   "outputs": [],
   "source": [
    "model = load_model(\"Models/HFModelV6.keras\")"
   ]
  },
  {
   "cell_type": "code",
   "execution_count": 89,
   "id": "4efe44e1-8093-4093-9799-8fdeddb00a91",
   "metadata": {},
   "outputs": [],
   "source": [
    "import sys\n",
    "sys.path.insert(0, \"../Tools\")"
   ]
  },
  {
   "cell_type": "code",
   "execution_count": 90,
   "id": "c75bebe7-c4a3-47c7-985e-f0c30fe771fe",
   "metadata": {},
   "outputs": [],
   "source": [
    "from PandasDataframeDriver import manipulator"
   ]
  },
  {
   "cell_type": "code",
   "execution_count": 148,
   "id": "ba445a7a-eb73-439d-af3a-13df46b4928a",
   "metadata": {},
   "outputs": [],
   "source": [
    "df = manipulator([\"Data/Fluorite4E3.csv\"]).data"
   ]
  },
  {
   "cell_type": "code",
   "execution_count": 52,
   "id": "88d611ea-a281-4aba-a7c2-3165d34a85dc",
   "metadata": {},
   "outputs": [],
   "source": [
    "import pandas as pd"
   ]
  },
  {
   "cell_type": "code",
   "execution_count": 149,
   "id": "032c41d5-f0fc-437e-b081-184e3fb920d0",
   "metadata": {},
   "outputs": [],
   "source": [
    "X = pd.get_dummies(df.drop([\"target\"], axis=1))\n",
    "y = df[\"target\"].apply(lambda x: 1 if x==1 else 0)"
   ]
  },
  {
   "cell_type": "code",
   "execution_count": 150,
   "id": "d167b34d-93f9-4e20-8863-860ff1ead8e6",
   "metadata": {},
   "outputs": [
    {
     "name": "stdout",
     "output_type": "stream",
     "text": [
      "\u001b[1m1/1\u001b[0m \u001b[32m━━━━━━━━━━━━━━━━━━━━\u001b[0m\u001b[37m\u001b[0m \u001b[1m0s\u001b[0m 19ms/step\n"
     ]
    }
   ],
   "source": [
    "y_hat = model.predict(X)\n",
    "y_hat = [0 if val < 0.5 else 1 for val in y_hat]"
   ]
  },
  {
   "cell_type": "code",
   "execution_count": 151,
   "id": "8919d17e-15e9-4475-8ff5-27c8ac57da12",
   "metadata": {},
   "outputs": [
    {
     "data": {
      "text/plain": [
       "[0,\n",
       " 1,\n",
       " 1,\n",
       " 1,\n",
       " 1,\n",
       " 0,\n",
       " 1,\n",
       " 0,\n",
       " 1,\n",
       " 1,\n",
       " 1,\n",
       " 1,\n",
       " 1,\n",
       " 1,\n",
       " 1,\n",
       " 1,\n",
       " 1,\n",
       " 1,\n",
       " 1,\n",
       " 1,\n",
       " 1,\n",
       " 1,\n",
       " 1,\n",
       " 1,\n",
       " 1,\n",
       " 1,\n",
       " 1,\n",
       " 1,\n",
       " 1,\n",
       " 1]"
      ]
     },
     "execution_count": 151,
     "metadata": {},
     "output_type": "execute_result"
    }
   ],
   "source": [
    "y_hat"
   ]
  },
  {
   "cell_type": "code",
   "execution_count": 152,
   "id": "ad560a74-060c-4f68-a074-9fe9dbc6167a",
   "metadata": {},
   "outputs": [
    {
     "data": {
      "text/plain": [
       "0.1"
      ]
     },
     "execution_count": 152,
     "metadata": {},
     "output_type": "execute_result"
    }
   ],
   "source": [
    "accuracy_score(y, y_hat)"
   ]
  },
  {
   "cell_type": "code",
   "execution_count": null,
   "id": "8098fa77-4b21-4cf4-8044-7202ea027c08",
   "metadata": {},
   "outputs": [],
   "source": []
  }
 ],
 "metadata": {
  "kernelspec": {
   "display_name": "Python 3 (ipykernel)",
   "language": "python",
   "name": "python3"
  },
  "language_info": {
   "codemirror_mode": {
    "name": "ipython",
    "version": 3
   },
   "file_extension": ".py",
   "mimetype": "text/x-python",
   "name": "python",
   "nbconvert_exporter": "python",
   "pygments_lexer": "ipython3",
   "version": "3.11.7"
  }
 },
 "nbformat": 4,
 "nbformat_minor": 5
}
